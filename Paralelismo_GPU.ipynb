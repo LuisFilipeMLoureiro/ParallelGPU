{
  "nbformat": 4,
  "nbformat_minor": 0,
  "metadata": {
    "colab": {
      "name": "Paralelismo GPU.ipynb",
      "provenance": [],
      "collapsed_sections": []
    },
    "kernelspec": {
      "name": "python3",
      "display_name": "Python 3"
    },
    "language_info": {
      "name": "python"
    },
    "accelerator": "GPU"
  },
  "cells": [
    {
      "cell_type": "markdown",
      "source": [
        "# **Projeto - Paralelismo GPU**\n"
      ],
      "metadata": {
        "id": "rUilFllZ5xaC"
      }
    },
    {
      "cell_type": "markdown",
      "source": [
        " ### **Introdução & Análise**"
      ],
      "metadata": {
        "id": "PNwMCi5d58NA"
      }
    },
    {
      "cell_type": "markdown",
      "source": [
        "Nesta etapa do projeto temos como objetivo explorar os mecanismos de paralelismo multicore utilizando GPU. Para tanto, utilizaremos a implementação da busca exaustiva explorada anteriormente no curso, uma vez que esta tem o desempenho significativamente comprometido quando trabalhamos com sequências muito grandes de DNA.\n",
        "Na busca exaustiva, o calculo de score é feito através de um procedimento básico realizado para cada par de subsequencias analisadas, e é ele que iremos paralelisar, como mostra o código abaixo:"
      ],
      "metadata": {
        "id": "BlvEYuwF59cp"
      }
    },
    {
      "cell_type": "code",
      "source": [
        "%%writefile main.cu\n",
        "#include <iostream>\n",
        "#include<random>\n",
        "#include <algorithm>\n",
        "#include <thrust/transform.h>\n",
        "#include <thrust/reduce.h>\n",
        "#include <thrust/device_vector.h>\n",
        "\n",
        "\n",
        "using namespace std;\n",
        "\n",
        "struct custom_transform\n",
        "{\n",
        "    __host__ __device__\n",
        "\n",
        "    double operator()(const char& a, const char& b)\n",
        "    { \n",
        "        if (a == b)\n",
        "        {\n",
        "            return 2;\n",
        "\n",
        "        }\n",
        "\n",
        "        return -1;\n",
        "    }\n",
        "};\n",
        "\n",
        "\n",
        "\n",
        "\n",
        "\n",
        "int main()\n",
        "{\n",
        "\n",
        "    int n, m;    \n",
        "    string SeqA, SeqB;\n",
        "\n",
        "    cout << \"Size Sequence A\" << endl;\n",
        "    cin >> n;\n",
        "    cout << \"Size Sequence B\" << endl;\n",
        "    cin >> m;\n",
        "    cout << \"Sequence A\" << endl;\n",
        "    cin >> SeqA;\n",
        "    cout << \"Sequence B\" << endl;\n",
        "    cin >> SeqB;\n",
        "\n",
        "    vector<string> all_SeqA;\n",
        "    vector<string> all_SeqB;\n",
        "\n",
        "    int max;\n",
        "\n",
        "    if(n>m){\n",
        "        max = m;\n",
        "    }else{\n",
        "        max = n;\n",
        "    }\n",
        "\n",
        "    \n",
        "\n",
        "\n",
        "    int  Asize, Bsize;\n",
        "     \n",
        "    \n",
        "    int match = 0;\n",
        "   \n",
        "\n",
        "\n",
        "\n",
        "    // Removing duplicated SeqA\n",
        "    std::sort(all_SeqA.begin(), all_SeqA.end());\n",
        "    all_SeqA.erase(std::unique(all_SeqA.begin(), all_SeqA.end()), all_SeqA.end());\n",
        "\n",
        "    // Removing duplicated SeqB\n",
        "    std::sort(all_SeqB.begin(), all_SeqB.end());\n",
        "    all_SeqB.erase(std::unique(all_SeqB.begin(), all_SeqB.end()), all_SeqB.end());\n",
        "\n",
        "    thrust::device_vector<char> SeqA_GPU(n);\n",
        "    thrust::device_vector<char> SeqB_GPU(m);\n",
        "    thrust::device_vector<int> MatchVec(max);\n",
        "\n",
        "\n",
        "for(int r=0; r<n; r++){\n",
        "\tSeqA_GPU[r] = SeqA[r];\t\t\n",
        "}\n",
        "\tfor(int y=0; y<m;y++){\n",
        "\tSeqB_GPU[y] = SeqB[y];\n",
        "}\n",
        "\n",
        "    for(int i = 0; i < n; i++){\n",
        "        for(int j = i + 1; j < n; j++){\n",
        "\n",
        "            Asize = j - i;\n",
        "\n",
        "            for (int i_B = 0; i_B < m; i_B++) {\n",
        "\n",
        "                for (int j_B = i_B + 1; j_B < m; j_B++){\n",
        "\n",
        "\n",
        "                    Bsize = j_B - i_B;\n",
        "\n",
        "                    if (Asize == Bsize) {\t\n",
        "\t\t\t\n",
        "                        thrust::transform(SeqA_GPU.begin() + i, SeqA_GPU.begin() + j, SeqB_GPU.begin() + i_B, MatchVec.begin(), custom_transform());\n",
        "\n",
        "                        int score = thrust::reduce(MatchVec.begin(), MatchVec.begin() +Bsize ,0, thrust::plus<int>());\n",
        "                        \n",
        "                        if (score > match) {\n",
        "                            match = score;\n",
        "                        }\n",
        "                    }\n",
        "                }\n",
        "            }   \n",
        "        }\n",
        "    }\n",
        "    \n",
        "\n",
        "    \n",
        "\n",
        "    cout << \"Resultados Finais:\"<< endl;\n",
        "    cout << \"Match Max:\"<< endl;\n",
        "    cout << match << endl;\n",
        "\n",
        "\n",
        "    cout << \"\"<< endl;\n",
        "    cout << \"EOF\"<< endl;    \n",
        "\n",
        "    return 0;\n",
        "}"
      ],
      "metadata": {
        "colab": {
          "base_uri": "https://localhost:8080/"
        },
        "id": "LdN6U13G52fB",
        "outputId": "a3c4cb3c-dc6b-4de6-f25f-95548d41ad65"
      },
      "execution_count": null,
      "outputs": [
        {
          "output_type": "stream",
          "name": "stdout",
          "text": [
            "Overwriting main.cu\n"
          ]
        }
      ]
    },
    {
      "cell_type": "markdown",
      "source": [
        "Para criar as operações, foi implementado um struct \"custom_transform\", com a marcação \"__device__\" para indiciar compilação pela GPU, onde o operator recebe as substrings e retorna o resultado da comparação dos caracteres.\n",
        "Em seguida, foi utilizado o \"device_vector\" da biblioteca \"Thrust\" para criar os vetores de \"char\" *SeqA_GPU* e *SeqB_GPU* na GPU que armazenariam as sequencias indicadas para comparação, além do vetor *MatchVec* resultante da comparação dessas strings que armazenaria o score.\n",
        "Com isso, foi realizado o paralelismo através do \"transform\" do \"Thrust\", que recebe os indices dos caracteres que formam a substring a ser analisada e aplica o \"custom_transform\" e, por fim, foi utilizado o \"reduce\" para calcular o score máximo entre todas as substrings comparadas."
      ],
      "metadata": {
        "id": "SgAox7XY7mz_"
      }
    },
    {
      "cell_type": "code",
      "source": [
        "!nvcc -arch=sm_37 -std=c++14 main.cu -o main"
      ],
      "metadata": {
        "colab": {
          "base_uri": "https://localhost:8080/"
        },
        "id": "0oNSTLLR9HDd",
        "outputId": "9b644452-e0fd-4ca0-e7bf-c85810ac2e5d"
      },
      "execution_count": null,
      "outputs": [
        {
          "output_type": "stream",
          "name": "stdout",
          "text": [
            "nvcc warning : The 'compute_35', 'compute_37', 'compute_50', 'sm_35', 'sm_37' and 'sm_50' architectures are deprecated, and may be removed in a future release (Use -Wno-deprecated-gpu-targets to suppress warning).\n"
          ]
        }
      ]
    },
    {
      "cell_type": "code",
      "source": [
        "import random\n",
        "max = 300\n",
        "def Seq_Gen(n):\n",
        "    file = 'entries/dna.seq' + str(n)\n",
        "    f = open(file, 'w')\n",
        "    seq=[str(n)+'\\n',\n",
        "     str(n)+'\\n',\n",
        "     ''.join(random.choices(['A','T','C','G','-'],k=n))+'\\n',\n",
        "     ''.join(random.choices(['A','T','C','G','-'],k=n))]\n",
        "    f.writelines(seq)\n",
        "    f.close()\n",
        "\n",
        "i = 10\n",
        "while i <max:\n",
        "  Seq_Gen(i)\n",
        "  i+=10"
      ],
      "metadata": {
        "id": "wfz2mdXI-TXv"
      },
      "execution_count": 15,
      "outputs": []
    },
    {
      "cell_type": "code",
      "source": [
        "# Criando uma lista com entradas ordenadas e seus respectivos tamanhos\n",
        "\n",
        "import subprocess\n",
        "import time\n",
        "import os\n",
        "import matplotlib.pyplot as plt \n",
        "directory = 'entries'\n",
        "entries = []\n",
        "size_entries = []\n",
        "i = 10\n",
        "\n",
        "while i < max:\n",
        "\n",
        "  for filename in os.listdir(directory):\n",
        "\n",
        "    if filename == \"dna.seq\" + str(i):\n",
        "      f = os.path.join(directory, filename)\n",
        "      # checking if it is a file\n",
        "      if os.path.isfile(f):\n",
        "        entries.append(f)\n",
        "  i+=10\n",
        "\n",
        "i = 10     \n",
        "while i < max:\n",
        "  size_entries.append(i)\n",
        "  i+=10"
      ],
      "metadata": {
        "id": "sDHcW25O_LPw"
      },
      "execution_count": 16,
      "outputs": []
    },
    {
      "cell_type": "code",
      "source": [
        "# Funções para multiplas execuções (em for)\n",
        "\n",
        "def roda_com_entrada(executavel, arquivo_in):\n",
        "    with open(arquivo_in) as f:\n",
        "        start = time.perf_counter()\n",
        "        proc = subprocess.run(['./' + executavel], input=f.read(), text=True, capture_output=True)\n",
        "        #print(arquivo_in)\n",
        "        end = time.perf_counter()        \n",
        "        time1 = end - start  \n",
        "        #print(time1)     \n",
        "    \n",
        "    return (time1)\n",
        "\n",
        "def multiplas_rodagens(executavel, lista_entradas):\n",
        "    tempos = []\n",
        "    for i in lista_entradas:\n",
        "        tempo = roda_com_entrada(executavel,i)\n",
        "        tempos.append(tempo)\n",
        "    return tempos"
      ],
      "metadata": {
        "id": "EAQSlLi0_Ygf"
      },
      "execution_count": 17,
      "outputs": []
    },
    {
      "cell_type": "code",
      "source": [
        "\n",
        "tempos_serial = []\n",
        "tempos_paralelo = []\n",
        "\n",
        "tempos_paralelo = multiplas_rodagens(\"main\", entries)"
      ],
      "metadata": {
        "id": "ah3fKMRW_bpN"
      },
      "execution_count": 18,
      "outputs": []
    },
    {
      "cell_type": "code",
      "source": [
        "print(len(tempos_paralelo))"
      ],
      "metadata": {
        "id": "sGEXzBhz_e6Z",
        "colab": {
          "base_uri": "https://localhost:8080/"
        },
        "outputId": "12767f4a-0924-40aa-b2bd-2dc052416f46"
      },
      "execution_count": 19,
      "outputs": [
        {
          "output_type": "stream",
          "name": "stdout",
          "text": [
            "29\n"
          ]
        }
      ]
    },
    {
      "cell_type": "code",
      "source": [
        "%%writefile bruteforce.cpp\n",
        "#include <iostream>\n",
        "#include<random>\n",
        "#include <algorithm>\n",
        "\n",
        "using namespace std;\n",
        "\n",
        "int calcula_valor(char a, char b){\n",
        "    if(a==b){\n",
        "        return 2;\n",
        "    }else{\n",
        "        return -1;\n",
        "    }\n",
        "}\n",
        "\n",
        "\n",
        "\n",
        "// https://stackoverflow.com/questions/15726641/find-all-possible-substring-in-fastest-way\n",
        "vector<string> subs_generator(string DNA, int size){\n",
        "    vector<string> lista_subs;\n",
        "    \n",
        "    for(int i = 0; i < size; i++){\n",
        "        for(int j = i + 1; j < size; j++){\n",
        "\n",
        "            string x = DNA.substr(i,j);           \n",
        "            lista_subs.push_back(x);\n",
        "            \n",
        "        }\n",
        "        \n",
        "        lista_subs.push_back(DNA);\n",
        "        \n",
        "    }\n",
        "    return lista_subs;\n",
        "}\n",
        "\n",
        "int calculadora(string seqA, string seqB){\n",
        "  int valor = 0;\n",
        "  int contador = seqA.size();\n",
        "  for (int i = 0; i < contador; i++){\n",
        "    valor += calcula_valor(seqA[i], seqB[i]);\n",
        "  }\n",
        "  return valor;\n",
        "}\n",
        "\n",
        "int main()\n",
        "{\n",
        "\n",
        "    int n, m;    \n",
        "    string SeqA, SeqB;\n",
        "\n",
        "    cout << \"Size Sequence A\" << endl;\n",
        "    cin >> n;\n",
        "    cout << \"Size Sequence B\" << endl;\n",
        "    cin >> m;\n",
        "    cout << \"Sequence A\" << endl;\n",
        "    cin >> SeqA;\n",
        "    cout << \"Sequence B\" << endl;\n",
        "    cin >> SeqB;\n",
        "\n",
        "    vector<string> all_SeqA;\n",
        "    vector<string> all_SeqB;\n",
        "\n",
        "    int max;\n",
        "\n",
        "    if(n>m){\n",
        "        max = m;\n",
        "    }else{\n",
        "        max = n;\n",
        "    }\n",
        "\n",
        "    all_SeqA = subs_generator(SeqA, n);\n",
        "    all_SeqB = subs_generator(SeqB, m);\n",
        "\n",
        "\n",
        "    int cand_SeqA, cand_SeqB, match, id, contador, candidato;\n",
        "    string finalSeqA, finalSeqB; \n",
        "    contador = 0;\n",
        "    cand_SeqA = 0;\n",
        "    cand_SeqB = 0;\n",
        "   \n",
        "\n",
        "\n",
        "\n",
        "    // Removing duplicated SeqA\n",
        "    std::sort(all_SeqA.begin(), all_SeqA.end());\n",
        "    all_SeqA.erase(std::unique(all_SeqA.begin(), all_SeqA.end()), all_SeqA.end());\n",
        "\n",
        "    // Removing duplicated SeqB\n",
        "    std::sort(all_SeqB.begin(), all_SeqB.end());\n",
        "    all_SeqB.erase(std::unique(all_SeqB.begin(), all_SeqB.end()), all_SeqB.end());\n",
        "\n",
        "\n",
        "    for (string i: all_SeqA){\n",
        "        for (string j: all_SeqB){\n",
        "\n",
        "            if(i.size() == j.size()){\n",
        "                candidato = calculadora(i,j);\n",
        "                if(contador == 0){\n",
        "                    match = candidato;\n",
        "                    finalSeqA = i;\n",
        "                    finalSeqB = j;\n",
        "\n",
        "                }else if(candidato>match){\n",
        "                    match = candidato;\n",
        "                    finalSeqA = i;\n",
        "                    finalSeqB = j;\n",
        "\n",
        "                }\n",
        "            }\n",
        "            contador ++;\n",
        "                \n",
        "            }\n",
        "        \n",
        "        \n",
        "    }\n",
        "    \n",
        "\n",
        "    \n",
        "\n",
        "    cout << \"Resultados Finais:\"<< endl;\n",
        "    cout << \"Match Max:\"<< endl;\n",
        "    cout << match << endl;\n",
        "    cout << \"Substrings que maximizaram o match:\"<< endl;\n",
        "    cout << \"Seq A:\"<< endl;\n",
        "    cout << finalSeqA << endl;\n",
        "    cout << \"Seq B:\"<< endl;\n",
        "    cout << finalSeqB << endl;\n",
        "\n",
        "    cout << \"\"<< endl;\n",
        "    cout << \"EOF\"<< endl;    \n",
        "\n",
        "    return 0;\n",
        "}"
      ],
      "metadata": {
        "colab": {
          "base_uri": "https://localhost:8080/"
        },
        "id": "SlZ5ronzvPWe",
        "outputId": "da96fdfe-5c6a-49c0-9f96-98fa265f9ca1"
      },
      "execution_count": 20,
      "outputs": [
        {
          "output_type": "stream",
          "name": "stdout",
          "text": [
            "Writing bruteforce.cpp\n"
          ]
        }
      ]
    },
    {
      "cell_type": "code",
      "source": [
        "!g++ -O3 bruteforce.cpp -o serial"
      ],
      "metadata": {
        "id": "8x8p7Y_AzYgp"
      },
      "execution_count": 21,
      "outputs": []
    },
    {
      "cell_type": "code",
      "source": [
        "tempos_serial = multiplas_rodagens(\"serial\", entries)"
      ],
      "metadata": {
        "id": "CyoKsktFzcPi"
      },
      "execution_count": 24,
      "outputs": []
    },
    {
      "cell_type": "code",
      "source": [
        "len(tempos_serial)"
      ],
      "metadata": {
        "colab": {
          "base_uri": "https://localhost:8080/"
        },
        "id": "lKlKLL4D0Hdl",
        "outputId": "a66cd81e-09df-483c-a553-1695db80a906"
      },
      "execution_count": 25,
      "outputs": [
        {
          "output_type": "execute_result",
          "data": {
            "text/plain": [
              "29"
            ]
          },
          "metadata": {},
          "execution_count": 25
        }
      ]
    },
    {
      "cell_type": "code",
      "source": [
        "plt.scatter(size_entries, tempos_serial,  label = \"Serial\")\n",
        "plt.scatter(size_entries, tempos_paralelo, label = \"paralelo\")\n",
        "\n",
        "import numpy as np\n",
        "\n",
        "z = np.polyfit(size_entries, tempos_paralelo, 1)\n",
        "p = np.poly1d(z)\n",
        "plt.plot(size_entries,p(size_entries),\"r--\", label = \"Linha de Tendência Paralelo\")\n",
        "\n",
        "z = np.polyfit(size_entries, tempos_serial, 1)\n",
        "p = np.poly1d(z)\n",
        "plt.plot(size_entries,p(size_entries),\"b--\", label = \"Linha de Tendência Serial\")\n",
        "\n",
        "plt.ylabel('time (s)')\n",
        "plt.xlabel('size of entry')\n",
        " \n",
        "\n",
        "plt.legend()\n",
        "plt.title('Comparision')\n",
        "plt.show()"
      ],
      "metadata": {
        "colab": {
          "base_uri": "https://localhost:8080/",
          "height": 295
        },
        "id": "PVeEFT0f0I7U",
        "outputId": "35033cbd-b2f1-4dca-c128-83a8318b55ee"
      },
      "execution_count": 27,
      "outputs": [
        {
          "output_type": "display_data",
          "data": {
            "text/plain": [
              "<Figure size 432x288 with 1 Axes>"
            ],
            "image/png": "[encoded data removed]"
          },
          "metadata": {
            "needs_background": "light"
          }
        }
      ]
    },
    {
      "cell_type": "code",
      "source": [
        ""
      ],
      "metadata": {
        "id": "K0Mxt0H02XFd"
      },
      "execution_count": null,
      "outputs": []
    }
  ]
}